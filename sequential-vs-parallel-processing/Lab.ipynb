{
 "cells": [
  {
   "cell_type": "markdown",
   "metadata": {
    "id": "eJxwersEaVt2"
   },
   "source": [
    "# Lab 01: Assignment\n",
    "* Name: Roman Soldatov\n",
    "* Group: B19-SD-01\n",
    "\n",
    "In this assignment you're required to find whether the given numbers are prime or not using sequential and parallel processing and then compare the performance of both\n",
    "\n",
    "## 1. Sequential processing"
   ]
  },
  {
   "cell_type": "code",
   "execution_count": 28,
   "metadata": {
    "executionInfo": {
     "elapsed": 261,
     "status": "ok",
     "timestamp": 1629459330859,
     "user": {
      "displayName": "Роман Солдатов",
      "photoUrl": "https://lh3.googleusercontent.com/a-/AOh14GigMJjUrYNyekdMuDHbnBX6f-I3bH2BhjFU6rtvUw=s64",
      "userId": "07485246649559225142"
     },
     "user_tz": -180
    },
    "id": "MWSrc9UVaVt6"
   },
   "outputs": [],
   "source": [
    "import time"
   ]
  },
  {
   "cell_type": "code",
   "execution_count": 29,
   "metadata": {
    "executionInfo": {
     "elapsed": 255,
     "status": "ok",
     "timestamp": 1629459332540,
     "user": {
      "displayName": "Роман Солдатов",
      "photoUrl": "https://lh3.googleusercontent.com/a-/AOh14GigMJjUrYNyekdMuDHbnBX6f-I3bH2BhjFU6rtvUw=s64",
      "userId": "07485246649559225142"
     },
     "user_tz": -180
    },
    "id": "DoAvOGZNaVt7"
   },
   "outputs": [],
   "source": [
    "numbers = [15492781, 15492787, 15492803,\n",
    "           15492811, 15492810, 15492833,\n",
    "           15492859, 15502547, 15520301, 15527509]"
   ]
  },
  {
   "cell_type": "code",
   "execution_count": 30,
   "metadata": {
    "colab": {
     "base_uri": "https://localhost:8080/"
    },
    "executionInfo": {
     "elapsed": 12466,
     "status": "ok",
     "timestamp": 1629459347236,
     "user": {
      "displayName": "Роман Солдатов",
      "photoUrl": "https://lh3.googleusercontent.com/a-/AOh14GigMJjUrYNyekdMuDHbnBX6f-I3bH2BhjFU6rtvUw=s64",
      "userId": "07485246649559225142"
     },
     "user_tz": -180
    },
    "id": "yrqcL6akaVt8",
    "outputId": "b6043ce1-8346-4a7a-af12-a4e0f8884e53"
   },
   "outputs": [
    {
     "name": "stdout",
     "output_type": "stream",
     "text": [
      "15492781 is prime\n",
      "15492787 is prime\n",
      "15492803 is prime\n",
      "15492811 is prime\n",
      "15492810 is not prime\n",
      "15492833 is prime\n",
      "15492859 is prime\n",
      "15502547 is prime\n",
      "15520301 is prime\n",
      "15527509 is prime\n",
      "Sequential process executed during 9.199744939804077 seconds\n"
     ]
    }
   ],
   "source": [
    "def is_prime(num):\n",
    "    \"\"\"returns True if number is prime, False otherwise\"\"\"\n",
    "    # To test multiprocessing and clearly see the difference I decided to extend \n",
    "    # the time execution. \n",
    "    # That's why it iterates not from 2 to int(sqrt(num)) + 1), but from 2 to num\n",
    "    for i in range(2, num):\n",
    "        if num % i == 0:\n",
    "            return False\n",
    "    return True\n",
    "\n",
    "\n",
    "def get_result(num):\n",
    "    if is_prime(num):\n",
    "        return str(num) + ' is prime'\n",
    "    else:\n",
    "        return str(num) + ' is not prime'\n",
    "\n",
    "\n",
    "if __name__ == \"__main__\":\n",
    "    # 1. record the start time using time() function of time module\n",
    "    start = time.time()\n",
    "\n",
    "    for number in numbers:\n",
    "        # 2. print the number and\n",
    "        #    whether it is prime or not.\n",
    "        #    use is_prime() function\n",
    "        print(get_result(number))\n",
    "\n",
    "    # 3. record the performance and print out\n",
    "    end = time.time()\n",
    "    t_seq = end - start\n",
    "    print(f'Sequential process executed during {t_seq} seconds')"
   ]
  },
  {
   "cell_type": "markdown",
   "metadata": {
    "collapsed": false
   },
   "source": [
    "So, the sequential program executed during *9.199744939804077* seconds."
   ]
  },
  {
   "cell_type": "markdown",
   "metadata": {
    "id": "PxVvdla7aVt9"
   },
   "source": [
    "## 2. Parallel processing"
   ]
  },
  {
   "cell_type": "code",
   "execution_count": 31,
   "metadata": {
    "executionInfo": {
     "elapsed": 317,
     "status": "ok",
     "timestamp": 1629459392577,
     "user": {
      "displayName": "Роман Солдатов",
      "photoUrl": "https://lh3.googleusercontent.com/a-/AOh14GigMJjUrYNyekdMuDHbnBX6f-I3bH2BhjFU6rtvUw=s64",
      "userId": "07485246649559225142"
     },
     "user_tz": -180
    },
    "id": "4Xc9ggp8aVt9"
   },
   "outputs": [],
   "source": [
    "from multiprocessing import Process, Queue, current_process\n",
    "from queue import Empty  # exception to break from loop when the get(block=False) called on empty queue"
   ]
  },
  {
   "cell_type": "code",
   "execution_count": 32,
   "metadata": {
    "colab": {
     "base_uri": "https://localhost:8080/"
    },
    "executionInfo": {
     "elapsed": 130330,
     "status": "ok",
     "timestamp": 1629459524198,
     "user": {
      "displayName": "Роман Солдатов",
      "photoUrl": "https://lh3.googleusercontent.com/a-/AOh14GigMJjUrYNyekdMuDHbnBX6f-I3bH2BhjFU6rtvUw=s64",
      "userId": "07485246649559225142"
     },
     "user_tz": -180
    },
    "id": "76jppdxAaVt-",
    "outputId": "7edcf5a0-7a62-4274-ded4-3512797fff53"
   },
   "outputs": [
    {
     "name": "stdout",
     "output_type": "stream",
     "text": [
      "# of subprocesses: 1\n",
      "Process-276: 15492781 is prime\n",
      "Process-276: 15492787 is prime\n",
      "Process-276: 15492803 is prime\n",
      "Process-276: 15492811 is prime\n",
      "Process-276: 15492810 is not prime\n",
      "Process-276: 15492833 is prime\n",
      "Process-276: 15492859 is prime\n",
      "Process-276: 15502547 is prime\n",
      "Process-276: 15520301 is prime\n",
      "Process-276: 15527509 is prime\n",
      "\n",
      "# of subprocesses: 2\n",
      "Process-277: 15492781 is prime\n",
      "Process-277: 15492811 is prime\n",
      "Process-277: 15492810 is not prime\n",
      "Process-277: 15492833 is prime\n",
      "Process-277: 15520301 is prime\n",
      "Process-278: 15492787 is prime\n",
      "Process-278: 15492803 is prime\n",
      "Process-278: 15492859 is prime\n",
      "Process-278: 15502547 is prime\n",
      "Process-278: 15527509 is prime\n",
      "\n",
      "# of subprocesses: 3\n",
      "Process-280: 15492781 is prime\n",
      "Process-280: 15492810 is not prime\n",
      "Process-280: 15492833 is prime\n",
      "Process-280: 15502547 is prime\n",
      "Process-281: 15492787 is prime\n",
      "Process-281: 15492811 is prime\n",
      "Process-281: 15520301 is prime\n",
      "Process-279: 15492803 is prime\n",
      "Process-279: 15492859 is prime\n",
      "Process-279: 15527509 is prime\n",
      "\n",
      "# of subprocesses: 4\n",
      "Process-283: 15492787 is prime\n",
      "Process-283: 15492859 is prime\n",
      "Process-285: 15492811 is prime\n",
      "Process-285: 15502547 is prime\n",
      "Process-284: 15492803 is prime\n",
      "Process-284: 15520301 is prime\n",
      "Process-282: 15492781 is prime\n",
      "Process-282: 15492810 is not prime\n",
      "Process-282: 15492833 is prime\n",
      "Process-282: 15527509 is prime\n",
      "\n",
      "# of subprocesses: 5\n",
      "Process-290: 15492810 is not prime\n",
      "Process-290: 15492833 is prime\n",
      "Process-286: 15492781 is prime\n",
      "Process-286: 15492859 is prime\n",
      "Process-288: 15492803 is prime\n",
      "Process-288: 15502547 is prime\n",
      "Process-287: 15492787 is prime\n",
      "Process-287: 15520301 is prime\n",
      "Process-289: 15492811 is prime\n",
      "Process-289: 15527509 is prime\n",
      "\n",
      "# of subprocesses: 6\n",
      "Process-294: 15492811 is prime\n",
      "Process-296: 15492859 is prime\n",
      "Process-295: 15492810 is not prime\n",
      "Process-295: 15492833 is prime\n",
      "Process-291: 15492781 is prime\n",
      "Process-291: 15520301 is prime\n",
      "Process-292: 15492787 is prime\n",
      "Process-292: 15527509 is prime\n",
      "Process-293: 15492803 is prime\n",
      "Process-293: 15502547 is prime\n",
      "\n",
      "# of subprocesses: 7\n",
      "Process-301: 15492811 is prime\n",
      "Process-303: 15492859 is prime\n",
      "Process-302: 15492810 is not prime\n",
      "Process-302: 15492833 is prime\n",
      "Process-299: 15492787 is prime\n",
      "Process-299: 15502547 is prime\n",
      "Process-300: 15492803 is prime\n",
      "Process-300: 15527509 is prime\n",
      "Process-297: 15492781 is prime\n",
      "Process-297: 15520301 is prime\n",
      "\n",
      "# of subprocesses: 8\n",
      "Process-307: 15492811 is prime\n",
      "Process-306: 15492803 is prime\n",
      "Process-305: 15492787 is prime\n",
      "Process-311: 15502547 is prime\n",
      "Process-308: 15492810 is not prime\n",
      "Process-308: 15492833 is prime\n",
      "Process-309: 15492859 is prime\n",
      "Process-310: 15520301 is prime\n",
      "Process-304: 15492781 is prime\n",
      "Process-304: 15527509 is prime\n",
      "\n",
      "# of subprocesses: 9\n",
      "Process-312: 15492781 is prime\n",
      "Process-314: 15492803 is prime\n",
      "Process-313: 15492787 is prime\n",
      "Process-315: 15492811 is prime\n",
      "Process-319: 15492859 is prime\n",
      "Process-316: 15492810 is not prime\n",
      "Process-316: 15492833 is prime\n",
      "Process-320: 15520301 is prime\n",
      "Process-318: 15502547 is prime\n",
      "Process-317: 15527509 is prime\n",
      "\n",
      "# of subprocesses: 10\n",
      "Process-327: 15492859 is prime\n",
      "Process-329: 15492781 is prime\n",
      "Process-321: 15502547 is prime\n",
      "Process-325: 15520301 is prime\n",
      "Process-326: 15492811 is prime\n",
      "Process-324: 15492787 is prime\n",
      "Process-330: 15492803 is prime\n",
      "Process-328: 15527509 is prime\n",
      "Process-323: 15492810 is not prime\n",
      "Process-323: 15492833 is prime\n",
      "\n",
      "1 processes executed during 8.943604946136475 seconds\n",
      "2 processes executed during 5.166201829910278 seconds\n",
      "3 processes executed during 4.816021919250488 seconds\n",
      "4 processes executed during 5.447645902633667 seconds\n",
      "5 processes executed during 5.057310342788696 seconds\n",
      "6 processes executed during 4.995983123779297 seconds\n",
      "7 processes executed during 5.0418701171875 seconds\n",
      "8 processes executed during 5.550290107727051 seconds\n",
      "9 processes executed during 5.0954577922821045 seconds\n",
      "10 processes executed during 5.212911128997803 seconds\n"
     ]
    }
   ],
   "source": [
    "def check_prime_worker(q):\n",
    "    \"\"\"worker function passed as target to Process\"\"\"\n",
    "    while True:\n",
    "        # 3. use try/except to catch Empty exception\n",
    "        #    and quit the loop if no number remains in queue\n",
    "        try:\n",
    "            # 1. get next available number from queue\n",
    "            num = q.get(block=False)\n",
    "            # 2. print the number and whether it\n",
    "            #    is prime or not, use is_prime()\n",
    "            proc = current_process().name\n",
    "            result = get_result(num)\n",
    "            print(f'{proc}: {result}')\n",
    "        except Empty:\n",
    "            break\n",
    "\n",
    "\n",
    "# calculate if the numbers are prime or not\n",
    "# measure the performance of parallel processing\n",
    "if __name__ == \"__main__\":\n",
    "    job_queue = Queue()\n",
    "    t_par = []  # to measure the time\n",
    "    # number of processes\n",
    "    for N in range(1, len(numbers) + 1):\n",
    "        # preparing the jobs to be done by workers\n",
    "        for n in numbers:\n",
    "            job_queue.put(n)\n",
    "\n",
    "        # 1. create list of processes of N process.\n",
    "        processes = [Process(target=check_prime_worker, args=(job_queue,))\n",
    "                     for i in range(N)]\n",
    "\n",
    "        print(f'# of subprocesses: {N}')\n",
    "        # 2. record the start time\n",
    "        start = time.time()\n",
    "\n",
    "        # 3. start each of the processes\n",
    "        [p.start() for p in processes]\n",
    "\n",
    "        # 4. call join on each of the processes\n",
    "        [p.join() for p in processes]\n",
    "\n",
    "        # 5. measure the performance and append to the list of records\n",
    "        end = time.time()\n",
    "        t_par.append(end - start)\n",
    "\n",
    "        # 6. close the processes\n",
    "        [p.close() for p in processes]\n",
    "\n",
    "        print()\n",
    "\n",
    "    # Performance\n",
    "    for number_processes, elem in enumerate(t_par):\n",
    "        print(f'{number_processes + 1} processes executed during {elem} seconds')"
   ]
  },
  {
   "cell_type": "markdown",
   "metadata": {
    "collapsed": false
   },
   "source": [
    "So, the multiprocessing program executed in the following way:\n",
    "\n",
    "`t_par = [8.943604946136475, 5.166201829910278 , 4.816021919250488, 5.447645902633667, 5.057310342788696, 4.995983123779297, 5.0418701171875, 5.550290107727051, 5.0954577922821045, 5.212911128997803]`"
   ]
  },
  {
   "cell_type": "markdown",
   "metadata": {
    "id": "YItqfE95aVt-"
   },
   "source": [
    "Bonus points will be given if you show/print the name of the process that did calculation for given number (use current_process() from multiprocessing module) "
   ]
  },
  {
   "cell_type": "markdown",
   "metadata": {
    "id": "kS1AcwK5aVuB"
   },
   "source": [
    "## 3. Compare the performance of Sequential processing against Parallel processing \n",
    "Draw a simple 2D graph using matplotlib:\n",
    "- X axis should be number of processes from part 2, i.e., it should have values: 1, 2, 3,.., len(numbers)\n",
    "- Y axis should be ratio of \"time for sequential processing\" (t_seq) to a \"time for parallel processing\" (t_par[i-1]) when i processes are used.\n",
    "\n",
    "Explain the results in a few sentences and what factors can affect the it?"
   ]
  },
  {
   "cell_type": "code",
   "execution_count": 33,
   "metadata": {
    "colab": {
     "base_uri": "https://localhost:8080/",
     "height": 295
    },
    "executionInfo": {
     "elapsed": 9,
     "status": "ok",
     "timestamp": 1629460904197,
     "user": {
      "displayName": "Роман Солдатов",
      "photoUrl": "https://lh3.googleusercontent.com/a-/AOh14GigMJjUrYNyekdMuDHbnBX6f-I3bH2BhjFU6rtvUw=s64",
      "userId": "07485246649559225142"
     },
     "user_tz": -180
    },
    "id": "AyEX3oLtZVtB",
    "outputId": "8f12c642-948e-45d6-bf75-f1db3f641f2b"
   },
   "outputs": [
    {
     "data": {
      "image/png": "[encoded data removed]",
      "text/plain": [
       "<Figure size 432x288 with 1 Axes>"
      ]
     },
     "metadata": {
      "needs_background": "light"
     },
     "output_type": "display_data"
    }
   ],
   "source": [
    "import matplotlib.pyplot as plt\n",
    "\n",
    "x = list(range(1, len(numbers) + 1))\n",
    "y = []\n",
    "for i in range(len(numbers)):\n",
    "    y.append(t_seq / t_par[i])\n",
    "\n",
    "plt.scatter(x, y)\n",
    "plt.title('Sequential vs Parallel')\n",
    "plt.xlabel('# of subprocesses')\n",
    "plt.ylabel('t_seq/t_par')\n",
    "plt.show()"
   ]
  },
  {
   "cell_type": "markdown",
   "metadata": {
    "id": "_dPIEb41gNf1"
   },
   "source": [
    "As can be seen, several processes work faster than the single one.\n",
    "However, the more subprocesses we use for calculation, the less performance increase.\n",
    "It can be the same or even worse. This happens because the CPU is limited of physical cores,\n",
    "and it can't run a lot of processes simultaneously. In such cases when the number of subprocesses is more than physical\n",
    "CPU cores, there won't be any increased performance.\n",
    "What's more, the execution even can become slower, since the process swapping is happening.\n",
    "Also, for multiprocessing, we used the `Queue` class from the `multiprocessing`\n",
    "module which is thread-safe. However, to provide the thread-safe condition, this data structure must implement all the\n",
    "required locking semantics, which also affects performance.\n",
    "My laptop has two physical cores. That's why the multiprocessing program is nearly 2 times faster\n",
    "than the sequential program, which can be seen on the graph: points are in the 1.5-2 range values of the y-axis.\n"
   ]
  }
 ],
 "metadata": {
  "colab": {
   "collapsed_sections": [],
   "name": "Lab_assignment.ipynb",
   "provenance": []
  },
  "kernelspec": {
   "display_name": "Python 3",
   "language": "python",
   "name": "python3"
  },
  "language_info": {
   "codemirror_mode": {
    "name": "ipython",
    "version": 3
   },
   "file_extension": ".py",
   "mimetype": "text/x-python",
   "name": "python",
   "nbconvert_exporter": "python",
   "pygments_lexer": "ipython3",
   "version": "3.8.10"
  }
 },
 "nbformat": 4,
 "nbformat_minor": 0
}
